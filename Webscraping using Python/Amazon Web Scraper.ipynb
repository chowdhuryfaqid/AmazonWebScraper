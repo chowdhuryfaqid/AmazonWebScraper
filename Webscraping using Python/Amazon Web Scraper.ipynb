{
 "cells": [
  {
   "cell_type": "code",
   "execution_count": 1,
   "id": "4eba38b4-55cd-4175-a8bb-6a3636ded42c",
   "metadata": {
    "tags": []
   },
   "outputs": [],
   "source": [
    "#importing libraries\n",
    "from bs4 import BeautifulSoup\n",
    "import requests\n",
    "import time\n",
    "import datetime\n",
    "\n",
    "import smtplib"
   ]
  },
  {
   "cell_type": "code",
   "execution_count": 7,
   "id": "0b0d944f-b0b9-4683-b0be-ad857dc90cd4",
   "metadata": {
    "tags": []
   },
   "outputs": [
    {
     "name": "stdout",
     "output_type": "stream",
     "text": [
      "\n",
      "            Exquisite Gaming: Call Of Duty: Ghost Warzone - Original Mobile Phone & Gaming Controller Holder, Device Stand, Cable Guys, COD Licensed Figure\n",
      "           \n",
      "\n",
      "\n",
      "\n",
      "\n",
      "                -12%\n",
      "               \n",
      "\n",
      "\n",
      "                 $21.99\n",
      "                \n",
      "\n",
      "\n",
      "                  $\n",
      "                 \n",
      "\n",
      "                  21\n",
      "                  \n",
      "                   .\n",
      "                  \n",
      "\n",
      "\n",
      "                  99\n",
      "                 \n",
      "\n",
      "\n",
      "\n",
      "\n",
      "\n",
      "\n",
      "\n",
      "\n",
      "\n",
      "                  List Price:\n",
      "                  \n",
      "\n",
      "                    $24.99\n",
      "                   \n",
      "\n",
      "                    $24.99\n",
      "                   \n",
      "\n",
      "\n",
      "\n",
      "\n",
      "\n",
      "\n",
      "\n",
      "\n",
      "\n",
      "\n",
      "\n",
      "\n",
      "\n",
      "\n",
      "\n",
      "\n",
      "\n",
      "\n",
      "\n",
      "                    The List Price is the suggested retail price of a new product as provided by a manufacturer, supplier, or seller. Except for books, Amazon will display a List Price if the product was purchased by customers on Amazon or offered by other retailers at or above the List Price in at least the past 90 days. List prices may not necessarily reflect the product's prevailing market price.\n",
      "                    \n",
      "\n",
      "                     Learn more\n",
      "                    \n",
      "\n",
      "\n",
      "\n",
      "\n",
      "\n",
      "\n",
      "\n",
      "\n",
      "\n"
     ]
    }
   ],
   "source": [
    "# Connect to Website and pull in data\n",
    "\n",
    "URL = 'https://www.amazon.com/Exquisite-Gaming-Warzone-Mobile-Controller/dp/B09N59Y2JN/ref=sr_1_7?crid=3KAZTOOUD8HAB&keywords=call%2Bof%2Bduty&qid=1698267280&sprefix=call%2Bof%2Bduty%2Caps%2C66&sr=8-7&th=1'\n",
    "\n",
    "headers = {\"User-Agent\": \"Mozilla/5.0 (Windows NT 10.0; Win64; x64) AppleWebKit/537.36 (KHTML, like Gecko) Chrome/118.0.0.0 Safari/537.36\", \"Accept-Encoding\":\"gzip, deflate\", \"Accept\":\"text/html,application/xhtml+xml,application/xml;q=0.9,*/*;q=0.8\", \"DNT\":\"1\",\"Connection\":\"close\", \"Upgrade-Insecure-Requests\":\"1\"}\n",
    "\n",
    "page = requests.get(URL, headers=headers)\n",
    "\n",
    "soup1 = BeautifulSoup(page.content, \"html.parser\")\n",
    "\n",
    "soup2 = BeautifulSoup(soup1.prettify(), \"html.parser\")\n",
    "\n",
    "title = soup2.find(id='productTitle').get_text()\n",
    "\n",
    "price = soup2.find(id='corePriceDisplay_desktop_feature_div').get_text()\n",
    "\n",
    "\n",
    "print(title)\n",
    "print(price)"
   ]
  },
  {
   "cell_type": "code",
   "execution_count": 20,
   "id": "09c01eee-018d-4fb7-b32d-2a3146f6a38b",
   "metadata": {
    "tags": []
   },
   "outputs": [
    {
     "name": "stdout",
     "output_type": "stream",
     "text": [
      "Exquisite Gaming: Call Of Duty: Ghost Warzone - Original Mobile Phone & Gaming Controller Holder, Device Stand, Cable Guys, COD Licensed Figure\n",
      "21.99\n"
     ]
    }
   ],
   "source": [
    "#cleaning the data to bring in only title and price\n",
    "\n",
    "import re\n",
    "price_pattern = r'\\$([\\d.]+)'\n",
    "match = re.search(price_pattern, price)\n",
    "if match:\n",
    "    price = match.group(1)\n",
    "title = title.strip()\n",
    "\n",
    "print(title)\n",
    "print(price)"
   ]
  },
  {
   "cell_type": "code",
   "execution_count": 21,
   "id": "e158cf69-4091-4329-a2b3-c0ca08e4149a",
   "metadata": {
    "tags": []
   },
   "outputs": [
    {
     "name": "stdout",
     "output_type": "stream",
     "text": [
      "2023-10-25\n"
     ]
    }
   ],
   "source": [
    "# Create a Timestamp for your output to track when data was collected\n",
    "\n",
    "import datetime\n",
    "\n",
    "today = datetime.date.today()\n",
    "\n",
    "print(today)"
   ]
  },
  {
   "cell_type": "code",
   "execution_count": 22,
   "id": "bff7b972-bc53-4612-bd52-4ed7034aff1b",
   "metadata": {
    "tags": []
   },
   "outputs": [],
   "source": [
    "# Create CSV and write headers and data into the file\n",
    "\n",
    "import csv \n",
    "\n",
    "header = ['Title', 'Price', 'Date']\n",
    "data = [title, price, today]\n",
    "\n",
    "\n",
    "with open('AmazonWebScraper.csv', 'w', newline='', encoding='UTF8') as f:\n",
    "    writer = csv.writer(f)\n",
    "    writer.writerow(header)\n",
    "    writer.writerow(data)"
   ]
  },
  {
   "cell_type": "code",
   "execution_count": 27,
   "id": "b4890092-9706-462a-824d-ddda002aba78",
   "metadata": {
    "tags": []
   },
   "outputs": [
    {
     "name": "stdout",
     "output_type": "stream",
     "text": [
      "                                               Title  Price        Date\n",
      "0  Exquisite Gaming: Call Of Duty: Ghost Warzone ...  21.99  2023-10-25\n",
      "1  Exquisite Gaming: Call Of Duty: Ghost Warzone ...  21.99  2023-10-25\n",
      "2  Exquisite Gaming: Call Of Duty: Ghost Warzone ...  21.99  2023-10-25\n",
      "3  Exquisite Gaming: Call Of Duty: Ghost Warzone ...  21.99  2023-10-25\n"
     ]
    }
   ],
   "source": [
    "import pandas as pd\n",
    "\n",
    "df = pd.read_csv(r'C:\\Users\\Faqid\\AmazonWebScraper.csv')\n",
    "\n",
    "print(df)"
   ]
  },
  {
   "cell_type": "code",
   "execution_count": 26,
   "id": "37899afa-f64f-40b7-b3aa-88fab63c0041",
   "metadata": {
    "tags": []
   },
   "outputs": [],
   "source": [
    "#Now we are appending data to the csv\n",
    "\n",
    "with open('AmazonWebScraper.csv', 'a+', newline='', encoding='UTF8') as f:\n",
    "    writer = csv.writer(f)\n",
    "    writer.writerow(data)"
   ]
  },
  {
   "cell_type": "code",
   "execution_count": 33,
   "id": "e88de73f-d01f-4dbd-8e43-ffd561bc634c",
   "metadata": {
    "tags": []
   },
   "outputs": [],
   "source": [
    "def check_price():\n",
    "    URL = 'https://www.amazon.com/Exquisite-Gaming-Warzone-Mobile-Controller/dp/B09N59Y2JN/ref=sr_1_7?crid=3KAZTOOUD8HAB&keywords=call%2Bof%2Bduty&qid=1698267280&sprefix=call%2Bof%2Bduty%2Caps%2C66&sr=8-7&th=1'\n",
    "\n",
    "    headers = {\"User-Agent\": \"Mozilla/5.0 (Windows NT 10.0; Win64; x64) AppleWebKit/537.36 (KHTML, like Gecko) Chrome/118.0.0.0 Safari/537.36\", \"Accept-Encoding\":\"gzip, deflate\", \"Accept\":\"text/html,application/xhtml+xml,application/xml;q=0.9,*/*;q=0.8\", \"DNT\":\"1\",\"Connection\":\"close\", \"Upgrade-Insecure-Requests\":\"1\"}\n",
    "\n",
    "    page = requests.get(URL, headers=headers)\n",
    "\n",
    "    soup1 = BeautifulSoup(page.content, \"html.parser\")\n",
    "\n",
    "    soup2 = BeautifulSoup(soup1.prettify(), \"html.parser\")\n",
    "\n",
    "    title = soup2.find(id='productTitle').get_text()\n",
    "\n",
    "    price = soup2.find(id='corePriceDisplay_desktop_feature_div').get_text()\n",
    "    \n",
    "    import re\n",
    "    price_pattern = r'\\$([\\d.]+)'\n",
    "    match = re.search(price_pattern, price)\n",
    "    if match:\n",
    "        price = match.group(1)\n",
    "    \n",
    "    title = title.strip()\n",
    "    \n",
    "    import datetime\n",
    "\n",
    "    today = datetime.date.today()\n",
    "    \n",
    "    import csv \n",
    "\n",
    "    header = ['Title', 'Price', 'Date']\n",
    "    data = [title, price, today]\n",
    "\n",
    "    with open('AmazonWebScraper.csv', 'a+', newline='', encoding='UTF8') as f:\n",
    "        writer = csv.writer(f)\n",
    "        writer.writerow(data)"
   ]
  },
  {
   "cell_type": "code",
   "execution_count": null,
   "id": "1076cc8f-a1d4-4af7-be7c-224cfc89cc83",
   "metadata": {},
   "outputs": [],
   "source": [
    "while(True):\n",
    "    check_price()\n",
    "    time.sleep(86400)"
   ]
  },
  {
   "cell_type": "code",
   "execution_count": 38,
   "id": "84db786d-fa19-4e00-845d-a653f5a96f91",
   "metadata": {
    "tags": []
   },
   "outputs": [
    {
     "name": "stdout",
     "output_type": "stream",
     "text": [
      "                                               Title  Price        Date\n",
      "0  Exquisite Gaming: Call Of Duty: Ghost Warzone ...  21.99  2023-10-25\n",
      "1  Exquisite Gaming: Call Of Duty: Ghost Warzone ...  21.99  2023-10-25\n",
      "2  Exquisite Gaming: Call Of Duty: Ghost Warzone ...  21.99  2023-10-25\n",
      "3  Exquisite Gaming: Call Of Duty: Ghost Warzone ...  21.99  2023-10-25\n",
      "4  Exquisite Gaming: Call Of Duty: Ghost Warzone ...  21.99  2023-10-25\n",
      "5  Exquisite Gaming: Call Of Duty: Ghost Warzone ...  21.99  2023-10-25\n",
      "6  Exquisite Gaming: Call Of Duty: Ghost Warzone ...  21.99  2023-10-25\n"
     ]
    }
   ],
   "source": [
    "import pandas as pd\n",
    "\n",
    "df = pd.read_csv(r'C:\\Users\\Faqid\\AmazonWebScraper.csv')\n",
    "\n",
    "print(df)"
   ]
  },
  {
   "cell_type": "code",
   "execution_count": null,
   "id": "0ce28878-ed69-4fe1-b27f-b8259710bfc0",
   "metadata": {},
   "outputs": [],
   "source": []
  }
 ],
 "metadata": {
  "kernelspec": {
   "display_name": "Python 3 (ipykernel)",
   "language": "python",
   "name": "python3"
  },
  "language_info": {
   "codemirror_mode": {
    "name": "ipython",
    "version": 3
   },
   "file_extension": ".py",
   "mimetype": "text/x-python",
   "name": "python",
   "nbconvert_exporter": "python",
   "pygments_lexer": "ipython3",
   "version": "3.11.5"
  }
 },
 "nbformat": 4,
 "nbformat_minor": 5
}
